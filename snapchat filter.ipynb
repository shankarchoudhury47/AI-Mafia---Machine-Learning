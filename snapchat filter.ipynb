{
 "cells": [
  {
   "cell_type": "code",
   "execution_count": 1,
   "metadata": {},
   "outputs": [],
   "source": [
    "import cv2\n",
    "import numpy as np\n",
    "import pandas as pd"
   ]
  },
  {
   "cell_type": "code",
   "execution_count": 2,
   "metadata": {},
   "outputs": [],
   "source": [
    "face_cascade = cv2.CascadeClassifier(\"haarcascade_frontalface_default.xml\")\n",
    "eyes_cascade = cv2.CascadeClassifier(\"./Train/third-party/haarcascade_eye.xml\")\n",
    "nose_cascade = cv2.CascadeClassifier(\"./Train/third-party/haarcascade_mcs_nose.xml\")\n",
    "\n",
    "img = cv2.imread('./Test/Before.png')\n",
    "mustache = cv2.imread('./Train/mustache.png',-1)\n",
    "glasses = cv2.imread('./Train/glasses.png',-1)\n",
    "\n",
    "gray = cv2.cvtColor(img, cv2.COLOR_BGR2GRAY)\n",
    "img = cv2.cvtColor(img, cv2.COLOR_BGR2BGRA)#make picture gray"
   ]
  },
  {
   "cell_type": "code",
   "execution_count": 3,
   "metadata": {},
   "outputs": [],
   "source": [
    "faces = face_cascade.detectMultiScale(gray, 1.3, 5)\n",
    "\n",
    "for (x,y,w,h) in faces:\n",
    "\troi_gray = gray[y:y+h, x:x+w]\n",
    "\troi_color = img[y:y+h, x:x+w]\n",
    "\t#cv2.rectangle(img,(x,y),(x+w,y+h),(255,255,0),2)\n",
    "\n",
    "\n",
    "\teyes = eyes_cascade.detectMultiScale(roi_gray,1.3,5)\n",
    "\tel = []\n",
    "\tfor(ex,ey,ew,eh) in eyes:\n",
    "\t\t#cv2.rectangle(roi_color,(ex, ey), (ex+ew, ey+eh),(0,255,0),3)\n",
    "\t\tel.append((ex,ey,ew,eh))\n",
    "\t\troi_eyes = roi_gray[ey:ey+eh, ex:ex+w]\n",
    "\t\n",
    "\tel = sorted(el , key = lambda a : a[0])\n",
    "\t#print(el)\t\n",
    "\tewf = el[1][0] + el[1][2] - el[0][0]\n",
    "\tehf = el[1][1] + el[1][3] - el[0][1]\n",
    "\n",
    "\t#print(ewf,ehf)\n",
    "\tglasses2 = cv2.resize(glasses.copy(),(int(1.2*ewf),int(2*ehf)))\n",
    "\t#print(glasses2.shape)\n",
    "\tgw, gh, gc = glasses2.shape\n",
    "\tfor i in range(0,gw):\n",
    "\t\tfor j in range(0,gh):\n",
    "\t\t\tif glasses2[i,j][3] != 0:\n",
    "\t\t\t\troi_color[int((el[0][1]+el[1][1])/3)+i, int((h-gh)/2)+j] = glasses2[i, j]\n",
    "\n",
    "\n",
    "\n",
    "\tnose = nose_cascade.detectMultiScale(roi_gray, scaleFactor=1.5, minNeighbors=5)\n",
    "\tfor (nx, ny, nw, nh) in nose:\n",
    "\t\t#cv2.rectangle(roi_color, (nx, ny), (nx + nw, ny + nh), (255, 0, 0), 3)\n",
    "\t\troi_nose = roi_gray[ny: ny+nh, nx:nx+nw]\n",
    "\t\tmustache2 = cv2.resize(mustache.copy(),(nw,int(0.5*ny)))\n",
    "\n",
    "\t\tmw, mh, mc = mustache2.shape\n",
    "\t\tfor i in range(0,mw):\n",
    "\t\t\tfor j in range(0,mh):\n",
    "\t\t\t\tif mustache2[i,j][3] != 0:\n",
    "\t\t\t\t\troi_color[ny + int(nh/2) + i, nx+j] = mustache2[i,j]"
   ]
  },
  {
   "cell_type": "code",
   "execution_count": 4,
   "metadata": {},
   "outputs": [
    {
     "name": "stdout",
     "output_type": "stream",
     "text": [
      "[[219 202 180]\n",
      " [220 203 181]\n",
      " [219 202 180]\n",
      " ...\n",
      " [ 19  13  13]\n",
      " [ 21  15  15]\n",
      " [ 22  15  15]]\n"
     ]
    }
   ],
   "source": [
    "#Display resulting frame\n",
    "img = cv2.cvtColor(img, cv2.COLOR_BGRA2BGR)\n",
    "img = cv2.cvtColor(img, cv2.COLOR_BGR2RGB)\n",
    "\n",
    "cv2.imshow('Image',img)\n",
    "\n",
    "\n",
    "\n",
    "img = np.reshape(img , (-1,3))\n",
    "print((img))\n",
    "\n",
    "\n",
    "cv2.waitKey(0)\n",
    "\n",
    "\n",
    "\n",
    "cv2.destroyAllWindows()"
   ]
  },
  {
   "cell_type": "code",
   "execution_count": 5,
   "metadata": {},
   "outputs": [],
   "source": [
    "dfa = pd.DataFrame({\"Prediction (R, G , B)\" : list(img)})"
   ]
  },
  {
   "cell_type": "code",
   "execution_count": null,
   "metadata": {},
   "outputs": [],
   "source": []
  }
 ],
 "metadata": {
  "kernelspec": {
   "display_name": "Python 3",
   "language": "python",
   "name": "python3"
  },
  "language_info": {
   "codemirror_mode": {
    "name": "ipython",
    "version": 3
   },
   "file_extension": ".py",
   "mimetype": "text/x-python",
   "name": "python",
   "nbconvert_exporter": "python",
   "pygments_lexer": "ipython3",
   "version": "3.8.3"
  }
 },
 "nbformat": 4,
 "nbformat_minor": 4
}
