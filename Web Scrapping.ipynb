{
 "cells": [
  {
   "cell_type": "code",
   "execution_count": 58,
   "metadata": {},
   "outputs": [],
   "source": [
    "from bs4 import BeautifulSoup"
   ]
  },
  {
   "cell_type": "code",
   "execution_count": 59,
   "metadata": {},
   "outputs": [],
   "source": [
    "import requests\n",
    "import pandas as pd\n",
    "from pandas import Series,DataFrame"
   ]
  },
  {
   "cell_type": "code",
   "execution_count": 60,
   "metadata": {},
   "outputs": [],
   "source": [
    "url='https://forecast.weather.gov/MapClick.php?lat=39.91980696400003&lon=-86.28179348799995#.Xy-LGygzY2w'"
   ]
  },
  {
   "cell_type": "code",
   "execution_count": 61,
   "metadata": {},
   "outputs": [],
   "source": [
    "result=requests.get(url)\n",
    "soup=BeautifulSoup(result.content,'lxml')"
   ]
  },
  {
   "cell_type": "code",
   "execution_count": 62,
   "metadata": {},
   "outputs": [],
   "source": [
    "summary=soup.find(id='seven-day-forecast-body')\n",
    "items=summary.findAll(class_='tombstone-container')"
   ]
  },
  {
   "cell_type": "code",
   "execution_count": 63,
   "metadata": {},
   "outputs": [],
   "source": [
    "period_name=[item.find(class_='period-name').get_text() for item in items]\n",
    "short_description=[item.find(class_='short-desc').get_text() for item in items]\n",
    "temperature=[item.find(class_='temp').get_text() for item in items]"
   ]
  },
  {
   "cell_type": "code",
   "execution_count": 64,
   "metadata": {},
   "outputs": [
    {
     "name": "stdout",
     "output_type": "stream",
     "text": [
      "           period      short_description  temperature\n",
      "0           Today           Partly Sunny  High: 87 °F\n",
      "1         Tonight  Slight ChanceT-storms   Low: 67 °F\n",
      "2          Monday         ChanceT-storms  High: 87 °F\n",
      "3     MondayNight          ShowersLikely   Low: 70 °F\n",
      "4         Tuesday         ChanceT-storms  High: 84 °F\n",
      "5    TuesdayNight         ChanceT-storms   Low: 65 °F\n",
      "6       Wednesday         ChanceT-storms  High: 82 °F\n",
      "7  WednesdayNight  Slight ChanceT-storms   Low: 64 °F\n",
      "8        Thursday         ChanceT-storms  High: 81 °F\n"
     ]
    }
   ],
   "source": [
    "weather=pd.DataFrame({\n",
    "    'period':period_name,\n",
    "    'short_description':short_description,\n",
    "    'temperature':temperature,\n",
    "})\n",
    "print(weather)"
   ]
  },
  {
   "cell_type": "code",
   "execution_count": 66,
   "metadata": {},
   "outputs": [],
   "source": [
    "weather.to_json('weather.json',orient='records')"
   ]
  },
  {
   "cell_type": "code",
   "execution_count": null,
   "metadata": {},
   "outputs": [],
   "source": []
  },
  {
   "cell_type": "code",
   "execution_count": null,
   "metadata": {},
   "outputs": [],
   "source": []
  }
 ],
 "metadata": {
  "kernelspec": {
   "display_name": "Python 3",
   "language": "python",
   "name": "python3"
  },
  "language_info": {
   "codemirror_mode": {
    "name": "ipython",
    "version": 3
   },
   "file_extension": ".py",
   "mimetype": "text/x-python",
   "name": "python",
   "nbconvert_exporter": "python",
   "pygments_lexer": "ipython3",
   "version": "3.8.3"
  }
 },
 "nbformat": 4,
 "nbformat_minor": 4
}
